{
 "cells": [
  {
   "cell_type": "markdown",
   "metadata": {},
   "source": [
    "# Movie/Show Recommender for Netflix, Hulu, Prime Video, and Disney+\n",
    "### Author: Kolton Cox \n",
    "### March 25, 2021\n",
    "### Data 4319 Machine Learning\n",
    "_____"
   ]
  },
  {
   "cell_type": "markdown",
   "metadata": {},
   "source": [
    "#### Import libraries:"
   ]
  },
  {
   "cell_type": "code",
   "execution_count": 1,
   "metadata": {},
   "outputs": [],
   "source": [
    "using RDatasets\n",
    "using Plots\n",
    "using CSV"
   ]
  },
  {
   "cell_type": "code",
   "execution_count": 2,
   "metadata": {},
   "outputs": [
    {
     "data": {
      "text/plain": [
       "distance (generic function with 1 method)"
      ]
     },
     "execution_count": 2,
     "metadata": {},
     "output_type": "execute_result"
    }
   ],
   "source": [
    "function distance(p1, p2)\n",
    "    return sqrt(sum((p1[i] - p2[i])^2 for i = 1:length(p1)))\n",
    "end"
   ]
  },
  {
   "cell_type": "code",
   "execution_count": 3,
   "metadata": {},
   "outputs": [
    {
     "data": {
      "text/plain": [
       "KNN (generic function with 1 method)"
      ]
     },
     "execution_count": 3,
     "metadata": {},
     "output_type": "execute_result"
    }
   ],
   "source": [
    "# K-nearest neighbors function\n",
    "function KNN(p, features, labels, k)\n",
    "    distance_array = [(distance(p, features[i]), labels[i]) for i = 1:length(features)]\n",
    "    sort!(distance_array, by = x -> x[1])\n",
    "    \n",
    "    return distance_array[1:k]\n",
    "end"
   ]
  },
  {
   "cell_type": "markdown",
   "metadata": {},
   "source": [
    "#### Read in movies from Netflix, Hulu, Prime Video, Disney+ "
   ]
  },
  {
   "cell_type": "code",
   "execution_count": 51,
   "metadata": {},
   "outputs": [
    {
     "data": {
      "text/html": [
       "<table class=\"data-frame\"><thead><tr><th></th><th>Column1</th><th>ID</th><th>Title</th><th>Year</th><th>Age</th><th>IMDb</th><th>Rotten Tomatoes</th></tr><tr><th></th><th>Int64</th><th>Int64</th><th>String</th><th>Int64</th><th>String?</th><th>Float64?</th><th>String?</th></tr></thead><tbody><p>16,744 rows × 17 columns (omitted printing of 10 columns)</p><tr><th>1</th><td>0</td><td>1</td><td>Inception</td><td>2010</td><td>13+</td><td>8.8</td><td>87%</td></tr><tr><th>2</th><td>1</td><td>2</td><td>The Matrix</td><td>1999</td><td>18+</td><td>8.7</td><td>87%</td></tr><tr><th>3</th><td>2</td><td>3</td><td>Avengers: Infinity War</td><td>2018</td><td>13+</td><td>8.5</td><td>84%</td></tr><tr><th>4</th><td>3</td><td>4</td><td>Back to the Future</td><td>1985</td><td>7+</td><td>8.5</td><td>96%</td></tr><tr><th>5</th><td>4</td><td>5</td><td>The Good, the Bad and the Ugly</td><td>1966</td><td>18+</td><td>8.8</td><td>97%</td></tr><tr><th>6</th><td>5</td><td>6</td><td>Spider-Man: Into the Spider-Verse</td><td>2018</td><td>7+</td><td>8.4</td><td>97%</td></tr><tr><th>7</th><td>6</td><td>7</td><td>The Pianist</td><td>2002</td><td>18+</td><td>8.5</td><td>95%</td></tr><tr><th>8</th><td>7</td><td>8</td><td>Django Unchained</td><td>2012</td><td>18+</td><td>8.4</td><td>87%</td></tr><tr><th>9</th><td>8</td><td>9</td><td>Raiders of the Lost Ark</td><td>1981</td><td>7+</td><td>8.4</td><td>95%</td></tr><tr><th>10</th><td>9</td><td>10</td><td>Inglourious Basterds</td><td>2009</td><td>18+</td><td>8.3</td><td>89%</td></tr><tr><th>11</th><td>10</td><td>11</td><td>Taxi Driver</td><td>1976</td><td>18+</td><td>8.3</td><td>95%</td></tr><tr><th>12</th><td>11</td><td>12</td><td>3 Idiots</td><td>2009</td><td>13+</td><td>8.4</td><td>100%</td></tr><tr><th>13</th><td>12</td><td>13</td><td>Pan's Labyrinth</td><td>2006</td><td>18+</td><td>8.2</td><td>95%</td></tr><tr><th>14</th><td>13</td><td>14</td><td>Room</td><td>2015</td><td>18+</td><td>8.1</td><td>93%</td></tr><tr><th>15</th><td>14</td><td>15</td><td>Monty Python and the Holy Grail</td><td>1975</td><td>7+</td><td>8.2</td><td>97%</td></tr><tr><th>16</th><td>15</td><td>16</td><td>Once Upon a Time in the West</td><td>1968</td><td>13+</td><td>8.5</td><td>95%</td></tr><tr><th>17</th><td>16</td><td>17</td><td>Indiana Jones and the Last Crusade</td><td>1989</td><td>13+</td><td>8.2</td><td>88%</td></tr><tr><th>18</th><td>17</td><td>18</td><td>Groundhog Day</td><td>1993</td><td>7+</td><td>8.0</td><td>96%</td></tr><tr><th>19</th><td>18</td><td>19</td><td>The King's Speech</td><td>2010</td><td>18+</td><td>8.0</td><td>95%</td></tr><tr><th>20</th><td>19</td><td>20</td><td>Her</td><td>2013</td><td>18+</td><td>8.0</td><td>95%</td></tr><tr><th>21</th><td>20</td><td>21</td><td>There Will Be Blood</td><td>2007</td><td>18+</td><td>8.2</td><td>91%</td></tr><tr><th>22</th><td>21</td><td>22</td><td>The Social Network</td><td>2010</td><td>13+</td><td>7.7</td><td>96%</td></tr><tr><th>23</th><td>22</td><td>23</td><td>Dallas Buyers Club</td><td>2013</td><td>18+</td><td>8.0</td><td>93%</td></tr><tr><th>24</th><td>23</td><td>24</td><td>The Perks of Being a Wallflower</td><td>2012</td><td>13+</td><td>8.0</td><td>86%</td></tr><tr><th>25</th><td>24</td><td>25</td><td>Life of Brian</td><td>1979</td><td>18+</td><td>8.1</td><td>95%</td></tr><tr><th>26</th><td>25</td><td>26</td><td>Ex Machina</td><td>2015</td><td>18+</td><td>7.7</td><td>92%</td></tr><tr><th>27</th><td>26</td><td>27</td><td>Silver Linings Playbook</td><td>2012</td><td>18+</td><td>7.7</td><td>92%</td></tr><tr><th>28</th><td>27</td><td>28</td><td>District 9</td><td>2009</td><td>18+</td><td>7.9</td><td>90%</td></tr><tr><th>29</th><td>28</td><td>29</td><td>The Irishman</td><td>2019</td><td>18+</td><td>7.9</td><td>96%</td></tr><tr><th>30</th><td>29</td><td>30</td><td>Moon</td><td>2009</td><td>18+</td><td>7.9</td><td>90%</td></tr><tr><th>&vellip;</th><td>&vellip;</td><td>&vellip;</td><td>&vellip;</td><td>&vellip;</td><td>&vellip;</td><td>&vellip;</td><td>&vellip;</td></tr></tbody></table>"
      ],
      "text/latex": [
       "\\begin{tabular}{r|cccccccc}\n",
       "\t& Column1 & ID & Title & Year & Age & IMDb & Rotten Tomatoes & \\\\\n",
       "\t\\hline\n",
       "\t& Int64 & Int64 & String & Int64 & String? & Float64? & String? & \\\\\n",
       "\t\\hline\n",
       "\t1 & 0 & 1 & Inception & 2010 & 13+ & 8.8 & 87\\% & $\\dots$ \\\\\n",
       "\t2 & 1 & 2 & The Matrix & 1999 & 18+ & 8.7 & 87\\% & $\\dots$ \\\\\n",
       "\t3 & 2 & 3 & Avengers: Infinity War & 2018 & 13+ & 8.5 & 84\\% & $\\dots$ \\\\\n",
       "\t4 & 3 & 4 & Back to the Future & 1985 & 7+ & 8.5 & 96\\% & $\\dots$ \\\\\n",
       "\t5 & 4 & 5 & The Good, the Bad and the Ugly & 1966 & 18+ & 8.8 & 97\\% & $\\dots$ \\\\\n",
       "\t6 & 5 & 6 & Spider-Man: Into the Spider-Verse & 2018 & 7+ & 8.4 & 97\\% & $\\dots$ \\\\\n",
       "\t7 & 6 & 7 & The Pianist & 2002 & 18+ & 8.5 & 95\\% & $\\dots$ \\\\\n",
       "\t8 & 7 & 8 & Django Unchained & 2012 & 18+ & 8.4 & 87\\% & $\\dots$ \\\\\n",
       "\t9 & 8 & 9 & Raiders of the Lost Ark & 1981 & 7+ & 8.4 & 95\\% & $\\dots$ \\\\\n",
       "\t10 & 9 & 10 & Inglourious Basterds & 2009 & 18+ & 8.3 & 89\\% & $\\dots$ \\\\\n",
       "\t11 & 10 & 11 & Taxi Driver & 1976 & 18+ & 8.3 & 95\\% & $\\dots$ \\\\\n",
       "\t12 & 11 & 12 & 3 Idiots & 2009 & 13+ & 8.4 & 100\\% & $\\dots$ \\\\\n",
       "\t13 & 12 & 13 & Pan's Labyrinth & 2006 & 18+ & 8.2 & 95\\% & $\\dots$ \\\\\n",
       "\t14 & 13 & 14 & Room & 2015 & 18+ & 8.1 & 93\\% & $\\dots$ \\\\\n",
       "\t15 & 14 & 15 & Monty Python and the Holy Grail & 1975 & 7+ & 8.2 & 97\\% & $\\dots$ \\\\\n",
       "\t16 & 15 & 16 & Once Upon a Time in the West & 1968 & 13+ & 8.5 & 95\\% & $\\dots$ \\\\\n",
       "\t17 & 16 & 17 & Indiana Jones and the Last Crusade & 1989 & 13+ & 8.2 & 88\\% & $\\dots$ \\\\\n",
       "\t18 & 17 & 18 & Groundhog Day & 1993 & 7+ & 8.0 & 96\\% & $\\dots$ \\\\\n",
       "\t19 & 18 & 19 & The King's Speech & 2010 & 18+ & 8.0 & 95\\% & $\\dots$ \\\\\n",
       "\t20 & 19 & 20 & Her & 2013 & 18+ & 8.0 & 95\\% & $\\dots$ \\\\\n",
       "\t21 & 20 & 21 & There Will Be Blood & 2007 & 18+ & 8.2 & 91\\% & $\\dots$ \\\\\n",
       "\t22 & 21 & 22 & The Social Network & 2010 & 13+ & 7.7 & 96\\% & $\\dots$ \\\\\n",
       "\t23 & 22 & 23 & Dallas Buyers Club & 2013 & 18+ & 8.0 & 93\\% & $\\dots$ \\\\\n",
       "\t24 & 23 & 24 & The Perks of Being a Wallflower & 2012 & 13+ & 8.0 & 86\\% & $\\dots$ \\\\\n",
       "\t25 & 24 & 25 & Life of Brian & 1979 & 18+ & 8.1 & 95\\% & $\\dots$ \\\\\n",
       "\t26 & 25 & 26 & Ex Machina & 2015 & 18+ & 7.7 & 92\\% & $\\dots$ \\\\\n",
       "\t27 & 26 & 27 & Silver Linings Playbook & 2012 & 18+ & 7.7 & 92\\% & $\\dots$ \\\\\n",
       "\t28 & 27 & 28 & District 9 & 2009 & 18+ & 7.9 & 90\\% & $\\dots$ \\\\\n",
       "\t29 & 28 & 29 & The Irishman & 2019 & 18+ & 7.9 & 96\\% & $\\dots$ \\\\\n",
       "\t30 & 29 & 30 & Moon & 2009 & 18+ & 7.9 & 90\\% & $\\dots$ \\\\\n",
       "\t$\\dots$ & $\\dots$ & $\\dots$ & $\\dots$ & $\\dots$ & $\\dots$ & $\\dots$ & $\\dots$ &  \\\\\n",
       "\\end{tabular}\n"
      ],
      "text/plain": [
       "\u001b[1m16744×17 DataFrame\u001b[0m\n",
       "\u001b[1m   Row \u001b[0m│\u001b[1m Column1 \u001b[0m\u001b[1m ID    \u001b[0m\u001b[1m Title                             \u001b[0m\u001b[1m Year  \u001b[0m\u001b[1m Age     \u001b[0m\u001b[1m IM\u001b[0m ⋯\n",
       "\u001b[1m       \u001b[0m│\u001b[90m Int64   \u001b[0m\u001b[90m Int64 \u001b[0m\u001b[90m String                            \u001b[0m\u001b[90m Int64 \u001b[0m\u001b[90m String? \u001b[0m\u001b[90m Fl\u001b[0m ⋯\n",
       "───────┼────────────────────────────────────────────────────────────────────────\n",
       "     1 │       0      1  Inception                           2010  13+         ⋯\n",
       "     2 │       1      2  The Matrix                          1999  18+\n",
       "     3 │       2      3  Avengers: Infinity War              2018  13+\n",
       "     4 │       3      4  Back to the Future                  1985  7+\n",
       "     5 │       4      5  The Good, the Bad and the Ugly      1966  18+         ⋯\n",
       "     6 │       5      6  Spider-Man: Into the Spider-Verse   2018  7+\n",
       "     7 │       6      7  The Pianist                         2002  18+\n",
       "     8 │       7      8  Django Unchained                    2012  18+\n",
       "     9 │       8      9  Raiders of the Lost Ark             1981  7+          ⋯\n",
       "    10 │       9     10  Inglourious Basterds                2009  18+\n",
       "    11 │      10     11  Taxi Driver                         1976  18+\n",
       "   ⋮   │    ⋮       ⋮                    ⋮                    ⋮       ⋮        ⋱\n",
       " 16735 │   16734  16735  Sultan And The Rock Star            1980 \u001b[90m missing \u001b[0m\n",
       " 16736 │   16735  16736  Secrets of the King Cobra           2010 \u001b[90m missing \u001b[0m    ⋯\n",
       " 16737 │   16736  16737  Winged Seduction: Birds of Parad…   2012 \u001b[90m missing \u001b[0m\n",
       " 16738 │   16737  16738  The Bears and I                     1974  all\n",
       " 16739 │   16738  16739  Whispers: An Elephant's Tale        2000  all\n",
       " 16740 │   16739  16740  The Ghosts of Buxley Hall           1980 \u001b[90m missing \u001b[0m    ⋯\n",
       " 16741 │   16740  16741  The Poof Point                      2001  7+\n",
       " 16742 │   16741  16742  Sharks of Lost Island               2013 \u001b[90m missing \u001b[0m\n",
       " 16743 │   16742  16743  Man Among Cheetahs                  2017 \u001b[90m missing \u001b[0m\n",
       " 16744 │   16743  16744  In Beaver Valley                    1950 \u001b[90m missing \u001b[0m\u001b[90m mi\u001b[0m ⋯\n",
       "\u001b[36m                                               12 columns and 16723 rows omitted\u001b[0m"
      ]
     },
     "execution_count": 51,
     "metadata": {},
     "output_type": "execute_result"
    }
   ],
   "source": [
    "movies = CSV.read(\"MoviesOnStreamingPlatforms_updated.csv\", DataFrame)"
   ]
  },
  {
   "cell_type": "markdown",
   "metadata": {},
   "source": [
    "#### Create x and y and display to make sure it works"
   ]
  },
  {
   "cell_type": "code",
   "execution_count": 52,
   "metadata": {},
   "outputs": [
    {
     "data": {
      "text/plain": [
       "16744-element Array{String,1}:\n",
       " \"Inception\"\n",
       " \"The Matrix\"\n",
       " \"Avengers: Infinity War\"\n",
       " \"Back to the Future\"\n",
       " \"The Good, the Bad and the Ugly\"\n",
       " \"Spider-Man: Into the Spider-Verse\"\n",
       " \"The Pianist\"\n",
       " \"Django Unchained\"\n",
       " \"Raiders of the Lost Ark\"\n",
       " \"Inglourious Basterds\"\n",
       " \"Taxi Driver\"\n",
       " \"3 Idiots\"\n",
       " \"Pan's Labyrinth\"\n",
       " ⋮\n",
       " \"The Boy Who Talked to Badgers\"\n",
       " \"Sea of Hope: America's Underwater Treasures\"\n",
       " \"Sultan And The Rock Star\"\n",
       " \"Secrets of the King Cobra\"\n",
       " \"Winged Seduction: Birds of Paradise\"\n",
       " \"The Bears and I\"\n",
       " \"Whispers: An Elephant's Tale\"\n",
       " \"The Ghosts of Buxley Hall\"\n",
       " \"The Poof Point\"\n",
       " \"Sharks of Lost Island\"\n",
       " \"Man Among Cheetahs\"\n",
       " \"In Beaver Valley\""
      ]
     },
     "execution_count": 52,
     "metadata": {},
     "output_type": "execute_result"
    }
   ],
   "source": [
    "x_movie_data = [x for x in zip(movies.IMDb, movies.Netflix, movies.Hulu, movies.PrimeVideo, movies.DisneyPlus)]\n",
    "y_movie_data = [x for x in movies.Title]"
   ]
  },
  {
   "cell_type": "code",
   "execution_count": 53,
   "metadata": {},
   "outputs": [
    {
     "data": {
      "text/plain": [
       "16744-element Array{Tuple{Any,Int64,Int64,Int64,Int64},1}:\n",
       " (8.8, 1, 0, 0, 0)\n",
       " (8.7, 1, 0, 0, 0)\n",
       " (8.5, 1, 0, 0, 0)\n",
       " (8.5, 1, 0, 0, 0)\n",
       " (8.8, 1, 0, 1, 0)\n",
       " (8.4, 1, 0, 0, 0)\n",
       " (8.5, 1, 0, 1, 0)\n",
       " (8.4, 1, 0, 0, 0)\n",
       " (8.4, 1, 0, 0, 0)\n",
       " (8.3, 1, 0, 0, 0)\n",
       " (8.3, 1, 0, 0, 0)\n",
       " (8.4, 1, 0, 1, 0)\n",
       " (8.2, 1, 0, 0, 0)\n",
       " ⋮\n",
       " (6.2, 0, 0, 0, 1)\n",
       " (7.3, 0, 0, 0, 1)\n",
       " (5.9, 0, 0, 0, 1)\n",
       " (6.4, 0, 0, 0, 1)\n",
       " (6.5, 0, 0, 0, 1)\n",
       " (6.2, 0, 0, 0, 1)\n",
       " (5.0, 0, 0, 0, 1)\n",
       " (6.2, 0, 0, 0, 1)\n",
       " (4.7, 0, 0, 0, 1)\n",
       " (5.7, 0, 0, 0, 1)\n",
       " (6.6, 0, 0, 0, 1)\n",
       " (missing, 0, 0, 0, 1)"
      ]
     },
     "execution_count": 53,
     "metadata": {},
     "output_type": "execute_result"
    }
   ],
   "source": [
    "x_movie_data"
   ]
  },
  {
   "cell_type": "code",
   "execution_count": 54,
   "metadata": {},
   "outputs": [
    {
     "data": {
      "text/plain": [
       "more_like_this (generic function with 1 method)"
      ]
     },
     "execution_count": 54,
     "metadata": {},
     "output_type": "execute_result"
    }
   ],
   "source": [
    "# Function for recommending movies\n",
    "function more_like_this(movie_name, features, labels, k)\n",
    "    for i = 1:length(labels)\n",
    "        if labels[i] == movie_name\n",
    "            neighbors = KNN(features[i], features, labels, k)\n",
    "            println(\"The top $k similar movies with $movie_name are:\")\n",
    "            for j = 1:k\n",
    "                println(\"$j. \", neighbors[j][2])\n",
    "            end\n",
    "        end\n",
    "    end\n",
    "end"
   ]
  },
  {
   "cell_type": "code",
   "execution_count": 55,
   "metadata": {},
   "outputs": [
    {
     "name": "stdout",
     "output_type": "stream",
     "text": [
      "The top 10 similar movies with Spider-Man: Into the Spider-Verse are:\n",
      "1. Spider-Man: Into the Spider-Verse\n",
      "2. Django Unchained\n",
      "3. Raiders of the Lost Ark\n",
      "4. Dangal\n",
      "5. Like Stars on Earth\n",
      "6. Bill Burr: I'm Sorry You Feel That Way\n",
      "7. Winter on Fire: Ukraine's Fight for Freedom\n",
      "8. Rush: Beyond the Lighted Stage\n",
      "9. Bill Burr: Let It Go\n",
      "10. Bo Burnham: Make Happy\n"
     ]
    }
   ],
   "source": [
    "more_like_this(\"Spider-Man: Into the Spider-Verse\", x_movie_data, y_movie_data, 10)"
   ]
  },
  {
   "cell_type": "code",
   "execution_count": null,
   "metadata": {},
   "outputs": [],
   "source": []
  }
 ],
 "metadata": {
  "kernelspec": {
   "display_name": "Julia 1.5.0",
   "language": "julia",
   "name": "julia-1.5"
  },
  "language_info": {
   "file_extension": ".jl",
   "mimetype": "application/julia",
   "name": "julia",
   "version": "1.5.0"
  }
 },
 "nbformat": 4,
 "nbformat_minor": 4
}
